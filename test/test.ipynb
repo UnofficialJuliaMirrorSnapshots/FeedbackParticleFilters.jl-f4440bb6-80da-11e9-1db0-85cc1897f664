{
 "cells": [
  {
   "cell_type": "code",
   "execution_count": 5,
   "metadata": {},
   "outputs": [],
   "source": [
    "using Test"
   ]
  },
  {
   "cell_type": "code",
   "execution_count": 1,
   "metadata": {},
   "outputs": [],
   "source": [
    "function Map(f::T, A::AbstractArray) where T<:Function \n",
    "    map(f, A)\n",
    "end\n",
    "function Map(F::NTuple{N, Function}, x::T) where {N, T<:Number} \n",
    "    [f(x) for f in F]\n",
    "end;\n",
    "function Map(F::AbstractArray{Function}, x::T) where {N, T<:Number} \n",
    "    [f(x) for f in F]\n",
    "end;\n",
    "function Map(F::AbstractArray{U}, x::T) where {N, T<:Number, U<:Function}\n",
    "    [f(x) for f in F]\n",
    "end;\n",
    "function Map(F::NTuple{N, Function}, A::AbstractArray; output_shape=2) where N\n",
    "    if output_shape == 1 \n",
    "        try\n",
    "            collect(Map.(F, Ref(A)))\n",
    "        catch\n",
    "            error(\"ERROR: functions cannot be applied at first level. Call with output_shape=2.\")\n",
    "        end\n",
    "    elseif output_shape == 2\n",
    "        try\n",
    "            [f(A) for f in F]\n",
    "        catch\n",
    "            collect(Map.(Ref(F), A))\n",
    "        end\n",
    "    else\n",
    "        error(\"ERROR: Invalid output_shape parameter. Must be either 1 or 2.\") \n",
    "    end\n",
    "end;\n",
    "function Map(F::AbstractArray{T}, A::AbstractArray; output_shape=2) where {N, T<:Function}\n",
    "    if output_shape == 1 \n",
    "        try\n",
    "            collect(Map.(F, Ref(A)))\n",
    "        catch\n",
    "            error(\"ERROR: functions cannot be applied at first level. Call with output_shape=2.\")\n",
    "        end\n",
    "    elseif output_shape == 2\n",
    "        try\n",
    "            [f(A) for f in F]\n",
    "        catch\n",
    "            collect(Map.(Ref(F), A))\n",
    "        end\n",
    "    else\n",
    "        error(\"ERROR: Invalid output_shape parameter. Must be either 1 or 2.\") \n",
    "    end\n",
    "end;"
   ]
  },
  {
   "cell_type": "code",
   "execution_count": 2,
   "metadata": {},
   "outputs": [],
   "source": [
    "f(x::Float64) = x\n",
    "g(x::Float64) = x^2\n",
    "h(x::Float64) = x^3;"
   ]
  },
  {
   "cell_type": "code",
   "execution_count": 42,
   "metadata": {},
   "outputs": [
    {
     "data": {
      "text/plain": [
       "true"
      ]
     },
     "execution_count": 42,
     "metadata": {},
     "output_type": "execute_result"
    }
   ],
   "source": [
    "Map((f,g,h), [[1.,2.],[3.,4.]], output_shape=2) == [[[1.0, 1.0, 1.0], [2.0, 4.0, 8.0]], [[3.0, 9.0, 27.0], [4.0, 16.0, 64.0]]]"
   ]
  },
  {
   "cell_type": "code",
   "execution_count": 46,
   "metadata": {},
   "outputs": [],
   "source": [
    "ff(x::Array{Float64,1}) = x[1]*x[2]\n",
    "gg(x::Array{Float64,1}) = x[1]+x[2]\n",
    "hh(x::Array{Float64,1}) = x[1]-x[2];"
   ]
  },
  {
   "cell_type": "code",
   "execution_count": 52,
   "metadata": {},
   "outputs": [
    {
     "data": {
      "text/plain": [
       "true"
      ]
     },
     "execution_count": 52,
     "metadata": {},
     "output_type": "execute_result"
    }
   ],
   "source": [
    "Map((ff,gg,hh), [[1.,2.],[3.,4.]], output_shape=2) == [[2.0, 3.0, -1.0], [12.0, 7.0, -1.0]]"
   ]
  },
  {
   "cell_type": "code",
   "execution_count": null,
   "metadata": {},
   "outputs": [],
   "source": []
  }
 ],
 "metadata": {
  "kernelspec": {
   "display_name": "Julia 1.1.1",
   "language": "julia",
   "name": "julia-1.1"
  },
  "language_info": {
   "file_extension": ".jl",
   "mimetype": "application/julia",
   "name": "julia",
   "version": "1.1.1"
  }
 },
 "nbformat": 4,
 "nbformat_minor": 2
}
